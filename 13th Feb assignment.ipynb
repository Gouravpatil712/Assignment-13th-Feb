{
 "cells": [
  {
   "cell_type": "markdown",
   "id": "0e7fce72-d2d4-423e-9d52-584824060876",
   "metadata": {},
   "source": [
    "## Question 01 - Explain why we have to use the Exception class while creating a Custom Exception.\n",
    "Note: Here Exception class refers to the base class for all the exceptions."
   ]
  },
  {
   "cell_type": "markdown",
   "id": "ff0fdf5b-3a34-4449-9a78-8a07bbf30a1e",
   "metadata": {},
   "source": [
    "#Answer :-\n",
    "\n",
    "In Python, exceptions are represented by classes, which means that when we create a custom exception, we need to define a new class that inherits from the built-in Exception class or one of its subclasses.\n",
    "\n",
    "The reason we use the Exception class as a base for our custom exception is that it provides all the necessary functionality to represent an error in Python. By inheriting from Exception, our custom exception class will have all the same methods and attributes as the built-in exceptions.\n",
    "\n",
    "For example, all exceptions have an error message that can be accessed through the args attribute, which is a tuple containing the message and any other arguments that were passed to the exception. The Exception class also provides methods like __str__() and __repr__() that are used to convert the exception to a string representation.\n",
    "\n",
    "Inheriting from the Exception class also ensures that our custom exception can be caught by the same try/except blocks that handle built-in exceptions, which is a critical aspect of error handling in Python.\n",
    "\n",
    "Additionally, by inheriting from Exception or one of its subclasses, we can leverage the existing exception hierarchy in Python to create more specific types of exceptions that have more targeted behavior. For example, if we want to create a custom exception that is specifically for file handling errors, we can inherit from the built-in FileNotFoundError class.\n",
    "\n",
    "In summary, by inheriting from the Exception class, we ensure that our custom exception has all the necessary functionality to represent an error in Python and can be handled by the same try/except blocks as built-in exceptions."
   ]
  },
  {
   "cell_type": "markdown",
   "id": "068c638c-e733-40d9-ad55-573167cea5b4",
   "metadata": {},
   "source": [
    "## Question 02 - Write a python program to print Python Exception Hierarchy."
   ]
  },
  {
   "cell_type": "code",
   "execution_count": 7,
   "id": "73b5a493-953f-44e5-b86e-5a66f5a3b7fb",
   "metadata": {},
   "outputs": [
    {
     "name": "stdout",
     "output_type": "stream",
     "text": [
      "Exception\n",
      "ValueError\n",
      "TypeError\n",
      "IndexError\n",
      "KeyError\n",
      "ZeroDivisionError\n",
      "FileNotFoundError\n"
     ]
    }
   ],
   "source": [
    "## Answer :-\n",
    "\n",
    "exceptions = [\n",
    "    Exception,\n",
    "    ValueError,\n",
    "    TypeError,\n",
    "    IndexError,\n",
    "    KeyError,\n",
    "    ZeroDivisionError,FileNotFoundError\n",
    "    ]\n",
    "\n",
    "for exception in exceptions:\n",
    "    print(exception.__name__)\n"
   ]
  },
  {
   "cell_type": "markdown",
   "id": "840511a9-4e26-42ac-b785-f2c72431f8ff",
   "metadata": {},
   "source": [
    "This program defines a list of exceptions and then loops over them, printing out the name of each exception using the __name__ attribute.This is a simple approach to printing the Python Exception Hierarchy that may not be complete, but it can still be useful for understanding some of the most common exceptions in Python."
   ]
  },
  {
   "cell_type": "markdown",
   "id": "8344891a-3377-4b9a-8764-9a1ea28b16b3",
   "metadata": {},
   "source": [
    "## Question 03 - What errors are defined in the ArithmeticError class? Explain any two with an example."
   ]
  },
  {
   "cell_type": "markdown",
   "id": "9fa104ff-6cb2-40c9-9257-50069d76177a",
   "metadata": {},
   "source": [
    "# Answer :-\n",
    "\n",
    "The ArithmeticError class is the base class for all errors that occur during arithmetic operations in Python. Some of the errors that are defined in this class include:\n",
    "\n",
    "1. ZeroDivisionError: This error is raised when you try to divide a number by zero.\n",
    "\n",
    "2. OverflowError: This error is raised when the result of an arithmetic operation is too large to be represented by a Python integer."
   ]
  },
  {
   "cell_type": "code",
   "execution_count": 8,
   "id": "a3be1401-0cca-436c-bb8a-057be5e1e6ae",
   "metadata": {},
   "outputs": [
    {
     "name": "stdout",
     "output_type": "stream",
     "text": [
      "Caught ZeroDivisionError: division by zero\n"
     ]
    }
   ],
   "source": [
    "# ZeroDivisionError\n",
    "try:\n",
    "    result = 1 / 0\n",
    "except ZeroDivisionError as e:\n",
    "    print(f\"Caught ZeroDivisionError: {e}\")\n",
    "    "
   ]
  },
  {
   "cell_type": "code",
   "execution_count": 9,
   "id": "910bafdf-4606-45af-9b78-254d5da45c7c",
   "metadata": {},
   "outputs": [],
   "source": [
    "# OverflowError\n",
    "import sys\n",
    "\n",
    "try:\n",
    "    result = sys.maxsize + 1\n",
    "except OverflowError as e:\n",
    "    print(f\"Caught OverflowError: {e}\")"
   ]
  },
  {
   "cell_type": "markdown",
   "id": "74e003d3-124b-44d8-ac6c-e0f9836eda24",
   "metadata": {},
   "source": [
    "In the first example, we try to divide 1 by 0, which raises a ZeroDivisionError. We catch this exception using a try/except block, and print out the error message.\n",
    "\n",
    "In the second example, we try to add 1 to the maximum value that can be represented by a Python integer (which is sys.maxsize). This causes an OverflowError, since the result is too large to be represented by an integer. We catch this exception using a try/except block, and print out the error message."
   ]
  },
  {
   "cell_type": "markdown",
   "id": "778f9f16-a9ff-403e-ba7d-f07554594935",
   "metadata": {},
   "source": [
    "## Question 04 - Why LookupError class is used? Explain with an example KeyError and IndexError."
   ]
  },
  {
   "cell_type": "markdown",
   "id": "d7245797-7136-4f30-81ea-e59285a87739",
   "metadata": {},
   "source": [
    "# Answer :-\n",
    "\n",
    "The LookupError class is the base class for all exceptions that occur when a specified key or index cannot be found in a sequence or mapping. Some of the errors that are defined in this class include:\n",
    "\n",
    "KeyError: This error is raised when you try to access a dictionary key that does not exist.\n",
    "\n",
    "IndexError: This error is raised when you try to access a list index that does not exist."
   ]
  },
  {
   "cell_type": "code",
   "execution_count": 10,
   "id": "8b646ba6-b88d-4033-985a-9f526018acb7",
   "metadata": {},
   "outputs": [
    {
     "name": "stdout",
     "output_type": "stream",
     "text": [
      "Caught KeyError: 'd'\n"
     ]
    }
   ],
   "source": [
    "# KeyError\n",
    "my_dict = {\"a\": 1, \"b\": 2, \"c\": 3}\n",
    "\n",
    "try:\n",
    "    value = my_dict[\"d\"]\n",
    "except KeyError as e:\n",
    "    print(f\"Caught KeyError: {e}\")"
   ]
  },
  {
   "cell_type": "code",
   "execution_count": 11,
   "id": "c4a94e3e-107f-4c68-bda4-ef8ddc37170f",
   "metadata": {},
   "outputs": [
    {
     "name": "stdout",
     "output_type": "stream",
     "text": [
      "Caught IndexError: list index out of range\n"
     ]
    }
   ],
   "source": [
    "# IndexError\n",
    "my_list = [1, 2, 3]\n",
    "\n",
    "try:\n",
    "    value = my_list[3]\n",
    "except IndexError as e:\n",
    "    print(f\"Caught IndexError: {e}\")"
   ]
  },
  {
   "cell_type": "markdown",
   "id": "4dde7ff3-e74a-4bfd-9f6b-2de519bbb2aa",
   "metadata": {},
   "source": [
    "In the first example, we try to access a key (\"d\") that does not exist in the dictionary. This raises a KeyError. We catch this exception using a try/except block, and print out the error message.\n",
    "\n",
    "In the second example, we try to access an index (3) that is out of range for the list. This raises an IndexError. We catch this exception using a try/except block, and print out the error message."
   ]
  },
  {
   "cell_type": "markdown",
   "id": "6d65b582-d7ba-4b57-ac9d-920dec99fc16",
   "metadata": {},
   "source": [
    "## Question 05 - Explain ImportError. What is ModuleNotFoundError?"
   ]
  },
  {
   "cell_type": "markdown",
   "id": "966e8472-3087-4bdd-9f8e-645abd93f1bf",
   "metadata": {},
   "source": [
    "# Answer :- \n",
    "\n",
    "In Python, ImportError is an exception that is raised when a module or package is not found. This can happen for a variety of reasons, such as a typo in the module name, a missing or corrupted module file, or a problem with the Python path."
   ]
  },
  {
   "cell_type": "code",
   "execution_count": 13,
   "id": "bb55194d-1818-4138-8cad-5ea1c5058f5a",
   "metadata": {},
   "outputs": [
    {
     "ename": "ModuleNotFoundError",
     "evalue": "No module named 'non_existent_module'",
     "output_type": "error",
     "traceback": [
      "\u001b[0;31m---------------------------------------------------------------------------\u001b[0m",
      "\u001b[0;31mModuleNotFoundError\u001b[0m                       Traceback (most recent call last)",
      "Cell \u001b[0;32mIn[13], line 1\u001b[0m\n\u001b[0;32m----> 1\u001b[0m \u001b[38;5;28;01mimport\u001b[39;00m \u001b[38;5;21;01mnon_existent_module\u001b[39;00m\n\u001b[1;32m      3\u001b[0m \u001b[38;5;28mprint\u001b[39m(\u001b[38;5;124m\"\u001b[39m\u001b[38;5;124mThis line will never be executed\u001b[39m\u001b[38;5;124m\"\u001b[39m)\n",
      "\u001b[0;31mModuleNotFoundError\u001b[0m: No module named 'non_existent_module'"
     ]
    }
   ],
   "source": [
    "import non_existent_module\n",
    "\n",
    "print(\"This line will never be executed\")\n"
   ]
  },
  {
   "cell_type": "markdown",
   "id": "127ebe45-fba7-4fdf-8e81-9dbfae678240",
   "metadata": {},
   "source": [
    "When we try to run this script, Python will raise an ImportError with a message like \"No module named 'non_existent_module'\". This is because Python cannot find a module with that name.\n",
    "\n",
    "In Python 3.6 and later versions, a new exception called ModuleNotFoundError was introduced to specifically handle cases where a module cannot be found. This exception is a subclass of ImportError, and is raised when an import statement fails because the requested module cannot be found."
   ]
  },
  {
   "cell_type": "code",
   "execution_count": null,
   "id": "0ebd274e-b6c8-4991-b277-72e30a09fe9d",
   "metadata": {},
   "outputs": [
    {
     "ename": "ModuleNotFoundError",
     "evalue": "No module named 'nonexistentmodule'",
     "output_type": "error",
     "traceback": [
      "\u001b[0;31m---------------------------------------------------------------------------\u001b[0m",
      "\u001b[0;31mModuleNotFoundError\u001b[0m                       Traceback (most recent call last)",
      "Cell \u001b[0;32mIn[14], line 1\u001b[0m\n\u001b[0;32m----> 1\u001b[0m \u001b[38;5;28;01mimport\u001b[39;00m \u001b[38;5;21;01mnonexistentmodule\u001b[39;00m\n",
      "\u001b[0;31mModuleNotFoundError\u001b[0m: No module named 'nonexistentmodule'"
     ]
    }
   ],
   "source": [
    "import nonexistentmodule"
   ]
  },
  {
   "cell_type": "markdown",
   "id": "6a290f8c-8970-4439-bc19-2116f455f62a",
   "metadata": {},
   "source": [
    "Python will raise a ModuleNotFoundError exception with a message like \"No module named 'nonexistentmodule'\". This is because the specified module cannot be found in any of the directories that Python searches when looking for modules to import."
   ]
  },
  {
   "cell_type": "markdown",
   "id": "91f833c3-52c8-4114-8e19-be119dd34dc7",
   "metadata": {},
   "source": [
    "## Question 06 - List down some best practices for exception handling in python."
   ]
  },
  {
   "cell_type": "markdown",
   "id": "ce851405-0b15-4b44-afde-cfcc689d8056",
   "metadata": {},
   "source": [
    "# Answer :- \n",
    "\n",
    "1. Be specific in handling exceptions\n",
    "2. Use try-except-finally\n",
    "3. Don't use bare except\n",
    "4. Use logging\n",
    "5. Use custom exceptions\n",
    "6. Don't ignore exceptions\n",
    "7. Keep error messages simple\n",
    "8. Test for exceptions\n",
    "9. Use context managers\n",
    "10. Document exceptions"
   ]
  },
  {
   "cell_type": "code",
   "execution_count": null,
   "id": "3aac6fa4-db36-49e3-afa1-eda3c00ba65f",
   "metadata": {},
   "outputs": [],
   "source": []
  }
 ],
 "metadata": {
  "kernelspec": {
   "display_name": "Python 3 (ipykernel)",
   "language": "python",
   "name": "python3"
  },
  "language_info": {
   "codemirror_mode": {
    "name": "ipython",
    "version": 3
   },
   "file_extension": ".py",
   "mimetype": "text/x-python",
   "name": "python",
   "nbconvert_exporter": "python",
   "pygments_lexer": "ipython3",
   "version": "3.10.8"
  }
 },
 "nbformat": 4,
 "nbformat_minor": 5
}
